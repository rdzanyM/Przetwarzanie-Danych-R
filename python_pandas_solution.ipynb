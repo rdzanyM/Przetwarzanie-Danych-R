{
 "cells": [
  {
   "cell_type": "code",
   "execution_count": 3,
   "metadata": {},
   "outputs": [],
   "source": [
    "import numpy as np\n",
    "import pandas as pd\n",
    "\n",
    "Tags = pd.read_csv(\"Tags.csv\")\n",
    "Posts = pd.read_csv(\"Posts.csv\")\n",
    "Users = pd.read_csv(\"Users.csv\")\n",
    "Votes = pd.read_csv(\"Votes.csv\")\n",
    "Comments = pd.read_csv(\"Comments.csv\")\n",
    "Badges = pd.read_csv(\"Badges.csv\")\n",
    "\n",
    "import sqlite3\n",
    "con = sqlite3.connect(\"./travel.db\")\n",
    "Tags.to_sql(\"Tags\", con)\n",
    "Posts.to_sql(\"Posts\", con)\n",
    "Users.to_sql(\"Users\", con)\n",
    "Votes.to_sql(\"Votes\", con)\n",
    "Comments.to_sql(\"Comments\", con)\n",
    "Badges.to_sql(\"Badges\", con)"
   ]
  },
  {
   "cell_type": "markdown",
   "metadata": {},
   "source": [
    "## Zadanie1  \n",
    ">Zwraca 10 użytkowników, których pytania zostały w sumie dodane do ulubionch największą ilość razy.  \n",
    ">Zwraca nazwę, id, lokację użytkownika, sumę dodań do ulubionych dla wszystkich zadanych przez niego pytań,\n",
    ">pytanie tego użytkownika dodane do ulubionych największą liczbę razy i liczbę dodań do ulubionych dla tego pytania.  "
   ]
  },
  {
   "cell_type": "code",
   "execution_count": 67,
   "metadata": {},
   "outputs": [
    {
     "data": {
      "text/plain": [
       "True"
      ]
     },
     "execution_count": 67,
     "metadata": {},
     "output_type": "execute_result"
    }
   ],
   "source": [
    "sql = pd.read_sql_query(\"\"\"SELECT Users.DisplayName,\n",
    "                           Users.Id,\n",
    "                           Users.Location,\n",
    "                           SUM(Posts.FavoriteCount) AS FavoriteTotal,\n",
    "                           Posts.Title AS MostFavoriteQuestion,\n",
    "                           MAX(Posts.FavoriteCount) AS MostFavoriteQuestionLikes\n",
    "                           FROM Posts\n",
    "                           JOIN Users ON Users.Id=Posts.OwnerUserId\n",
    "                           WHERE Posts.PostTypeId=1\n",
    "                           GROUP BY OwnerUserId\n",
    "                           ORDER BY FavoriteTotal DESC\n",
    "                           LIMIT 10\"\"\", con)\n",
    "\n",
    "pandas = Users[['DisplayName', 'Id', 'Location']].set_index('Id').join(\\\n",
    "Posts.query(\"PostTypeId == 1\")[['Title', 'FavoriteCount', 'OwnerUserId']].\\\n",
    "set_index('OwnerUserId'), how = 'inner').sort_values('FavoriteCount', ascending = False).groupby(level = 0).\\\n",
    "agg({'DisplayName': 'first', 'Location': 'first', 'FavoriteCount': ['sum', 'max'], 'Title': 'first'})\n",
    "pandas.columns = pandas.columns.droplevel(0)\n",
    "pandas = pandas.sort_values('sum', ascending = False).head(10).reset_index().iloc[:,[1,0,2,3,5,4]]\n",
    "pandas.columns = sql.columns\n",
    "\n",
    "sql.equals(pandas)"
   ]
  },
  {
   "cell_type": "markdown",
   "metadata": {},
   "source": [
    "## Zadanie2\n",
    ">Zwraca 10 pytań (id, tytuł, liczba odpowiedzi o dodatnim wyniku na dane pytanie)  \n",
    ">z największą liczbą odpowiedzi o dodatnim wyniku na dane pytanie. "
   ]
  },
  {
   "cell_type": "code",
   "execution_count": 99,
   "metadata": {},
   "outputs": [
    {
     "data": {
      "text/plain": [
       "True"
      ]
     },
     "execution_count": 99,
     "metadata": {},
     "output_type": "execute_result"
    }
   ],
   "source": [
    "sql = pd.read_sql_query(\"\"\" SELECT Posts.ID,\n",
    "                            Posts.Title,\n",
    "                            Posts2.PositiveAnswerCount\n",
    "                            FROM Posts\n",
    "                            JOIN (\n",
    "                            SELECT\n",
    "                            Posts.ParentID,\n",
    "                            COUNT(*) AS PositiveAnswerCount\n",
    "                            FROM Posts\n",
    "                            WHERE Posts.PostTypeID=2 AND Posts.Score>0\n",
    "                            GROUP BY Posts.ParentID\n",
    "                            ) AS Posts2\n",
    "                            ON Posts.ID=Posts2.ParentID\n",
    "                            ORDER BY Posts2.PositiveAnswerCount DESC\n",
    "                            LIMIT 10\"\"\", con)\n",
    "\n",
    "pandas = Posts.query(\"PostTypeId == 2 and Score > 0\").groupby('ParentId').size().nlargest(10).to_frame().\\\n",
    "join(Posts.set_index('Id'), how = 'inner').iloc[:,[15,0]].reset_index()                                                                                                \n",
    "pandas.columns = sql.columns\n",
    "\n",
    "sql.equals(pandas)"
   ]
  },
  {
   "cell_type": "markdown",
   "metadata": {},
   "source": [
    "## Zadanie3\n",
    ">Dla każdego roku zwraca tytuł pytania, które dostało najwięcej upvotów w danym roku, ten rok i tę liczbę upVotów. "
   ]
  },
  {
   "cell_type": "code",
   "execution_count": 187,
   "metadata": {},
   "outputs": [
    {
     "data": {
      "text/plain": [
       "True"
      ]
     },
     "execution_count": 187,
     "metadata": {},
     "output_type": "execute_result"
    }
   ],
   "source": [
    "sql = pd.read_sql_query(\"\"\" SELECT Posts.Title,\n",
    "                            UpVotesPerYear.Year,\n",
    "                            MAX(UpVotesPerYear.Count) AS Count\n",
    "                            FROM (\n",
    "                            SELECT\n",
    "                            PostId,\n",
    "                            COUNT(*) AS Count,\n",
    "                            STRFTIME('%Y', Votes.CreationDate) AS Year\n",
    "                            FROM Votes\n",
    "                            WHERE VoteTypeId=2\n",
    "                            GROUP BY PostId, Year\n",
    "                            ) AS UpVotesPerYear\n",
    "                            JOIN Posts ON Posts.Id=UpVotesPerYear.PostId\n",
    "                            WHERE Posts.PostTypeId=1\n",
    "                            GROUP BY Year\"\"\", con)\n",
    "\n",
    "q_uv_y = Votes.query(\"VoteTypeId == 2\")[['PostId', 'CreationDate']]\n",
    "q_uv_y.CreationDate = q_uv_y.CreationDate.str[:4]\n",
    "q_uv_y = q_uv_y.groupby(['PostId', 'CreationDate']).size().to_frame().join(\\\n",
    "Posts.query(\"PostTypeId == 1\")[['Id', 'Title']].set_index('Id'), on = 'PostId', how = 'inner')\n",
    "pandas = q_uv_y.groupby('CreationDate').max()[0].to_frame().reset_index().set_index(['CreationDate', 0]).join(\\\n",
    "q_uv_y.reset_index().set_index(['CreationDate', 0])).reset_index().iloc[:,[3,0,1]]\n",
    "pandas.columns = sql.columns\n",
    "\n",
    "sql.equals(pandas)"
   ]
  },
  {
   "cell_type": "markdown",
   "metadata": {},
   "source": [
    "## Zadanie4\n",
    ">Zwraca pytania z największą różnicą pomiędzy wynikiem najwyżej punktowanej i zaakceptowanej odpowiedzi,  \n",
    ">posortowane malejąco względem tej różnicy. "
   ]
  },
  {
   "cell_type": "code",
   "execution_count": 232,
   "metadata": {},
   "outputs": [
    {
     "data": {
      "text/plain": [
       "True"
      ]
     },
     "execution_count": 232,
     "metadata": {},
     "output_type": "execute_result"
    }
   ],
   "source": [
    "sql = pd.read_sql_query(\"\"\" SELECT Questions.Id,\n",
    "                            Questions.Title,\n",
    "                            BestAnswers.MaxScore,\n",
    "                            Posts.Score AS AcceptedScore,\n",
    "                            BestAnswers.MaxScore-Posts.Score AS Difference\n",
    "                            FROM (\n",
    "                            SELECT Id, ParentId, MAX(Score) AS MaxScore\n",
    "                            FROM Posts\n",
    "                            WHERE PostTypeId==2\n",
    "                            GROUP BY ParentId\n",
    "                            ) AS BestAnswers\n",
    "                            JOIN (\n",
    "                            SELECT * FROM Posts\n",
    "                            WHERE PostTypeId==1\n",
    "                            ) AS Questions\n",
    "                            ON Questions.Id=BestAnswers.ParentId\n",
    "                            JOIN Posts ON Questions.AcceptedAnswerId=Posts.Id\n",
    "                            WHERE Difference>50\n",
    "                            ORDER BY Difference DESC\"\"\", con)\n",
    "\n",
    "a = Posts.query(\"PostTypeId == 2\")[['Id', 'ParentId', 'Score']]\n",
    "aa = a.iloc[:,[0,2]]\n",
    "aa.columns = ['Id', 'AccScore']\n",
    "pandas = a.groupby('ParentId').max().join(Posts.query(\"PostTypeId == 1 and AcceptedAnswerId == AcceptedAnswerId\")\\\n",
    "[['Id', 'Title', 'AcceptedAnswerId']].set_index('Id'), how = 'inner').join(aa.set_index('Id'), on = 'AcceptedAnswerId')\n",
    "pandas['Dif'] = pandas['Score'] - pandas['AccScore']\n",
    "pandas = pandas.query(\"Dif > 50\").sort_values('Dif', ascending = False).reset_index().iloc[:,[0,3,2,5,6]]\n",
    "pandas.columns = sql.columns\n",
    "\n",
    "sql.equals(pandas)"
   ]
  },
  {
   "cell_type": "markdown",
   "metadata": {},
   "source": [
    "## Zadanie5\n",
    ">Zwraca 10 pytań (tytuł pytania, *wynik komentarzy autora*) z największym *wynikiem komentarzy autora*,  \n",
    ">gdzie *wynik komentarzy autora* to suma punktów uzyskanych przez autora pytania w komentarzach do tego pytania. "
   ]
  },
  {
   "cell_type": "code",
   "execution_count": 258,
   "metadata": {},
   "outputs": [
    {
     "data": {
      "text/plain": [
       "True"
      ]
     },
     "execution_count": 258,
     "metadata": {},
     "output_type": "execute_result"
    }
   ],
   "source": [
    "sql = pd.read_sql_query(\"\"\" SELECT Posts.Title,\n",
    "                            CmtTotScr.CommentsTotalScore\n",
    "                            FROM (\n",
    "                            SELECT\n",
    "                            PostID,\n",
    "                            UserID,\n",
    "                            SUM(Score) AS CommentsTotalScore\n",
    "                            FROM Comments\n",
    "                            GROUP BY PostID, UserID\n",
    "                            ) AS CmtTotScr\n",
    "                            JOIN Posts ON Posts.ID=CmtTotScr.PostID AND Posts.OwnerUserId=CmtTotScr.UserID\n",
    "                            WHERE Posts.PostTypeId=1\n",
    "                            ORDER BY CmtTotScr.CommentsTotalScore DESC\n",
    "                            LIMIT 10\"\"\", con)\n",
    "\n",
    "pandas = Comments.groupby(['PostId', 'UserId']).sum().join(Posts.query(\"PostTypeId == 1\")[['Id', 'Title', 'OwnerUserId']].\\\n",
    "set_index(['Id', 'OwnerUserId']), on = ['PostId', 'UserId'], how = 'inner').reset_index().iloc[:,[4,3]].\\\n",
    "nlargest(10, 'Score').reset_index(drop = True)\n",
    "pandas.columns = sql.columns\n",
    "\n",
    "sql.equals(pandas)"
   ]
  },
  {
   "cell_type": "markdown",
   "metadata": {},
   "source": [
    "## Zadanie6\n",
    ">Zwraca użytkowników (id, nazwę, reputację, wiek, lokację), którzy są w posiadaniu *wartościowej* odznaki.  \n",
    ">Odznaka jest *wartościowa* wtedy i tylko wtedy gdy jest <span style=\"color:gold\">złota</span> i została zdobyta przez od 2 do 10 użytkowników.  \n"
   ]
  },
  {
   "cell_type": "code",
   "execution_count": 328,
   "metadata": {},
   "outputs": [
    {
     "data": {
      "text/plain": [
       "False"
      ]
     },
     "execution_count": 328,
     "metadata": {},
     "output_type": "execute_result"
    }
   ],
   "source": [
    "sql = pd.read_sql_query(\"\"\" SELECT DISTINCT Users.Id,\n",
    "                            Users.DisplayName,\n",
    "                            Users.Reputation,\n",
    "                            Users.Age,\n",
    "                            Users.Location\n",
    "                            FROM (\n",
    "                            SELECT\n",
    "                            Name, UserID\n",
    "                            FROM Badges\n",
    "                            WHERE Name IN (\n",
    "                            SELECT\n",
    "                            Name\n",
    "                            FROM Badges\n",
    "                            WHERE Class=1\n",
    "                            GROUP BY Name\n",
    "                            HAVING COUNT(*) BETWEEN 2 AND 10\n",
    "                            )\n",
    "                            AND Class=1\n",
    "                            ) AS ValuableBadges\n",
    "                            JOIN Users ON ValuableBadges.UserId=Users.Id\"\"\", con)\n",
    "\n",
    "b = Badges.query(\"Class == 1\")[['Name', 'UserId']]\n",
    "vbNames = b.groupby('Name').size().between(2,10)\n",
    "vbNames = vbNames[vbNames].index\n",
    "\n",
    "vbUid = b[b['Name'].isin(vbNames)]['UserId']\n",
    "pandas = Users[Users['Id'].isin(vbUid)][['Id', 'DisplayName', 'Reputation', 'Age', 'Location']].reset_index(drop = True)\n",
    "\n",
    "sql.sort_values(id).equals(pandas)"
   ]
  },
  {
   "cell_type": "code",
   "execution_count": 262,
   "metadata": {},
   "outputs": [],
   "source": [
    "b = Badges.query(\"Class == 1\")[['Name', 'UserId']]"
   ]
  },
  {
   "cell_type": "code",
   "execution_count": 326,
   "metadata": {},
   "outputs": [],
   "source": [
    "vbNames = b.groupby('Name').size().between(2,10)\n",
    "vbNames = vbNames[vbNames].index\n",
    "\n",
    "vbUid = b[b['Name'].isin(vbNames)]['UserId']\n",
    "pandas = Users[Users['Id'].isin(vbUid)][['Id', 'DisplayName', 'Reputation', 'Age', 'Location']].reset_index(drop = True)\n",
    "\n"
   ]
  },
  {
   "cell_type": "code",
   "execution_count": 327,
   "metadata": {},
   "outputs": [
    {
     "data": {
      "text/html": [
       "<div>\n",
       "<style scoped>\n",
       "    .dataframe tbody tr th:only-of-type {\n",
       "        vertical-align: middle;\n",
       "    }\n",
       "\n",
       "    .dataframe tbody tr th {\n",
       "        vertical-align: top;\n",
       "    }\n",
       "\n",
       "    .dataframe thead th {\n",
       "        text-align: right;\n",
       "    }\n",
       "</style>\n",
       "<table border=\"1\" class=\"dataframe\">\n",
       "  <thead>\n",
       "    <tr style=\"text-align: right;\">\n",
       "      <th></th>\n",
       "      <th>Id</th>\n",
       "      <th>DisplayName</th>\n",
       "      <th>Reputation</th>\n",
       "      <th>Age</th>\n",
       "      <th>Location</th>\n",
       "    </tr>\n",
       "  </thead>\n",
       "  <tbody>\n",
       "    <tr>\n",
       "      <th>0</th>\n",
       "      <td>19</td>\n",
       "      <td>VMAtm</td>\n",
       "      <td>18556</td>\n",
       "      <td>33.0</td>\n",
       "      <td>Tampa, FL, United States</td>\n",
       "    </tr>\n",
       "    <tr>\n",
       "      <th>1</th>\n",
       "      <td>101</td>\n",
       "      <td>Mark Mayo</td>\n",
       "      <td>121667</td>\n",
       "      <td>37.0</td>\n",
       "      <td>Sydney, New South Wales, Australia</td>\n",
       "    </tr>\n",
       "    <tr>\n",
       "      <th>2</th>\n",
       "      <td>108</td>\n",
       "      <td>Ankur Banerjee</td>\n",
       "      <td>31273</td>\n",
       "      <td>27.0</td>\n",
       "      <td>London, UK</td>\n",
       "    </tr>\n",
       "    <tr>\n",
       "      <th>3</th>\n",
       "      <td>466</td>\n",
       "      <td>iHaveacomputer</td>\n",
       "      <td>8360</td>\n",
       "      <td>NaN</td>\n",
       "      <td>Down underer</td>\n",
       "    </tr>\n",
       "    <tr>\n",
       "      <th>4</th>\n",
       "      <td>693</td>\n",
       "      <td>RoflcoptrException</td>\n",
       "      <td>33300</td>\n",
       "      <td>NaN</td>\n",
       "      <td>NaN</td>\n",
       "    </tr>\n",
       "    <tr>\n",
       "      <th>5</th>\n",
       "      <td>793</td>\n",
       "      <td>mindcorrosive</td>\n",
       "      <td>10531</td>\n",
       "      <td>32.0</td>\n",
       "      <td>Bulgaria</td>\n",
       "    </tr>\n",
       "    <tr>\n",
       "      <th>6</th>\n",
       "      <td>1737</td>\n",
       "      <td>Gayot Fow</td>\n",
       "      <td>70237</td>\n",
       "      <td>NaN</td>\n",
       "      <td>London, United Kingdom</td>\n",
       "    </tr>\n",
       "    <tr>\n",
       "      <th>7</th>\n",
       "      <td>6669</td>\n",
       "      <td>Relaxed</td>\n",
       "      <td>69405</td>\n",
       "      <td>NaN</td>\n",
       "      <td>NaN</td>\n",
       "    </tr>\n",
       "    <tr>\n",
       "      <th>8</th>\n",
       "      <td>19400</td>\n",
       "      <td>phoog</td>\n",
       "      <td>34342</td>\n",
       "      <td>50.0</td>\n",
       "      <td>New York, NY</td>\n",
       "    </tr>\n",
       "    <tr>\n",
       "      <th>9</th>\n",
       "      <td>39065</td>\n",
       "      <td>Pont</td>\n",
       "      <td>1004</td>\n",
       "      <td>NaN</td>\n",
       "      <td>Austria</td>\n",
       "    </tr>\n",
       "  </tbody>\n",
       "</table>\n",
       "</div>"
      ],
      "text/plain": [
       "      Id         DisplayName  Reputation   Age  \\\n",
       "0     19               VMAtm       18556  33.0   \n",
       "1    101           Mark Mayo      121667  37.0   \n",
       "2    108      Ankur Banerjee       31273  27.0   \n",
       "3    466      iHaveacomputer        8360   NaN   \n",
       "4    693  RoflcoptrException       33300   NaN   \n",
       "5    793       mindcorrosive       10531  32.0   \n",
       "6   1737           Gayot Fow       70237   NaN   \n",
       "7   6669             Relaxed       69405   NaN   \n",
       "8  19400               phoog       34342  50.0   \n",
       "9  39065                Pont        1004   NaN   \n",
       "\n",
       "                             Location  \n",
       "0            Tampa, FL, United States  \n",
       "1  Sydney, New South Wales, Australia  \n",
       "2                          London, UK  \n",
       "3                        Down underer  \n",
       "4                                 NaN  \n",
       "5                            Bulgaria  \n",
       "6              London, United Kingdom  \n",
       "7                                 NaN  \n",
       "8                        New York, NY  \n",
       "9                             Austria  "
      ]
     },
     "execution_count": 327,
     "metadata": {},
     "output_type": "execute_result"
    }
   ],
   "source": [
    "pandas"
   ]
  },
  {
   "cell_type": "code",
   "execution_count": 260,
   "metadata": {},
   "outputs": [
    {
     "data": {
      "text/html": [
       "<div>\n",
       "<style scoped>\n",
       "    .dataframe tbody tr th:only-of-type {\n",
       "        vertical-align: middle;\n",
       "    }\n",
       "\n",
       "    .dataframe tbody tr th {\n",
       "        vertical-align: top;\n",
       "    }\n",
       "\n",
       "    .dataframe thead th {\n",
       "        text-align: right;\n",
       "    }\n",
       "</style>\n",
       "<table border=\"1\" class=\"dataframe\">\n",
       "  <thead>\n",
       "    <tr style=\"text-align: right;\">\n",
       "      <th></th>\n",
       "      <th>Id</th>\n",
       "      <th>DisplayName</th>\n",
       "      <th>Reputation</th>\n",
       "      <th>Age</th>\n",
       "      <th>Location</th>\n",
       "    </tr>\n",
       "  </thead>\n",
       "  <tbody>\n",
       "    <tr>\n",
       "      <th>0</th>\n",
       "      <td>108</td>\n",
       "      <td>Ankur Banerjee</td>\n",
       "      <td>31273</td>\n",
       "      <td>27.0</td>\n",
       "      <td>London, UK</td>\n",
       "    </tr>\n",
       "    <tr>\n",
       "      <th>1</th>\n",
       "      <td>19</td>\n",
       "      <td>VMAtm</td>\n",
       "      <td>18556</td>\n",
       "      <td>33.0</td>\n",
       "      <td>Tampa, FL, United States</td>\n",
       "    </tr>\n",
       "    <tr>\n",
       "      <th>2</th>\n",
       "      <td>101</td>\n",
       "      <td>Mark Mayo</td>\n",
       "      <td>121667</td>\n",
       "      <td>37.0</td>\n",
       "      <td>Sydney, New South Wales, Australia</td>\n",
       "    </tr>\n",
       "    <tr>\n",
       "      <th>3</th>\n",
       "      <td>466</td>\n",
       "      <td>iHaveacomputer</td>\n",
       "      <td>8360</td>\n",
       "      <td>NaN</td>\n",
       "      <td>Down underer</td>\n",
       "    </tr>\n",
       "    <tr>\n",
       "      <th>4</th>\n",
       "      <td>793</td>\n",
       "      <td>mindcorrosive</td>\n",
       "      <td>10531</td>\n",
       "      <td>32.0</td>\n",
       "      <td>Bulgaria</td>\n",
       "    </tr>\n",
       "    <tr>\n",
       "      <th>5</th>\n",
       "      <td>693</td>\n",
       "      <td>RoflcoptrException</td>\n",
       "      <td>33300</td>\n",
       "      <td>NaN</td>\n",
       "      <td>None</td>\n",
       "    </tr>\n",
       "    <tr>\n",
       "      <th>6</th>\n",
       "      <td>6669</td>\n",
       "      <td>Relaxed</td>\n",
       "      <td>69405</td>\n",
       "      <td>NaN</td>\n",
       "      <td>None</td>\n",
       "    </tr>\n",
       "    <tr>\n",
       "      <th>7</th>\n",
       "      <td>1737</td>\n",
       "      <td>Gayot Fow</td>\n",
       "      <td>70237</td>\n",
       "      <td>NaN</td>\n",
       "      <td>London, United Kingdom</td>\n",
       "    </tr>\n",
       "    <tr>\n",
       "      <th>8</th>\n",
       "      <td>39065</td>\n",
       "      <td>Pont</td>\n",
       "      <td>1004</td>\n",
       "      <td>NaN</td>\n",
       "      <td>Austria</td>\n",
       "    </tr>\n",
       "    <tr>\n",
       "      <th>9</th>\n",
       "      <td>19400</td>\n",
       "      <td>phoog</td>\n",
       "      <td>34342</td>\n",
       "      <td>50.0</td>\n",
       "      <td>New York, NY</td>\n",
       "    </tr>\n",
       "  </tbody>\n",
       "</table>\n",
       "</div>"
      ],
      "text/plain": [
       "      Id         DisplayName  Reputation   Age  \\\n",
       "0    108      Ankur Banerjee       31273  27.0   \n",
       "1     19               VMAtm       18556  33.0   \n",
       "2    101           Mark Mayo      121667  37.0   \n",
       "3    466      iHaveacomputer        8360   NaN   \n",
       "4    793       mindcorrosive       10531  32.0   \n",
       "5    693  RoflcoptrException       33300   NaN   \n",
       "6   6669             Relaxed       69405   NaN   \n",
       "7   1737           Gayot Fow       70237   NaN   \n",
       "8  39065                Pont        1004   NaN   \n",
       "9  19400               phoog       34342  50.0   \n",
       "\n",
       "                             Location  \n",
       "0                          London, UK  \n",
       "1            Tampa, FL, United States  \n",
       "2  Sydney, New South Wales, Australia  \n",
       "3                        Down underer  \n",
       "4                            Bulgaria  \n",
       "5                                None  \n",
       "6                                None  \n",
       "7              London, United Kingdom  \n",
       "8                             Austria  \n",
       "9                        New York, NY  "
      ]
     },
     "execution_count": 260,
     "metadata": {},
     "output_type": "execute_result"
    }
   ],
   "source": [
    "sql"
   ]
  },
  {
   "cell_type": "markdown",
   "metadata": {},
   "source": [
    "## Zadanie7\n"
   ]
  },
  {
   "cell_type": "code",
   "execution_count": null,
   "metadata": {},
   "outputs": [],
   "source": [
    "sql = pd.read_sql_query(\"\"\"SELECT Users.DisplayName,\n",
    "                           Users.Id,\n",
    "                           Users.Location,\n",
    "                           SUM(Posts.FavoriteCount) AS FavoriteTotal,\n",
    "                           Posts.Title AS MostFavoriteQuestion,\n",
    "                           MAX(Posts.FavoriteCount) AS MostFavoriteQuestionLikes\n",
    "                           FROM Posts\n",
    "                           JOIN Users ON Users.Id=Posts.OwnerUserId\n",
    "                           WHERE Posts.PostTypeId=1\n",
    "                           GROUP BY OwnerUserId\n",
    "                           ORDER BY FavoriteTotal DESC\n",
    "                           LIMIT 10\"\"\", con)\n",
    "\n",
    "pandas = Users[['DisplayName', 'Id', 'Location']].set_index('Id').join(\\\n",
    "Posts.query(\"PostTypeId == 1\")[['Title', 'FavoriteCount', 'OwnerUserId']].\\\n",
    "set_index('OwnerUserId'), how = 'inner').sort_values('FavoriteCount', ascending = False).groupby(level = 0).\\\n",
    "agg({'DisplayName': 'first', 'Location': 'first', 'FavoriteCount': ['sum', 'max'], 'Title': 'first'})\n",
    "pandas.columns = pandas.columns.droplevel(0)\n",
    "pandas = pandas.sort_values('sum', ascending = False).head(10).reset_index().iloc[:,[1,0,2,3,5,4]]\n",
    "pandas.columns = sql.columns\n",
    "\n",
    "sql.equals(pandas)"
   ]
  },
  {
   "cell_type": "code",
   "execution_count": null,
   "metadata": {},
   "outputs": [],
   "source": []
  },
  {
   "cell_type": "markdown",
   "metadata": {},
   "source": [
    "![pandas](https://user-images.githubusercontent.com/43205483/58571663-830ea580-823a-11e9-9f0f-03925c92cefe.png)"
   ]
  },
  {
   "cell_type": "code",
   "execution_count": null,
   "metadata": {},
   "outputs": [],
   "source": []
  }
 ],
 "metadata": {
  "kernelspec": {
   "display_name": "Python 3",
   "language": "python",
   "name": "python3"
  },
  "language_info": {
   "codemirror_mode": {
    "name": "ipython",
    "version": 3
   },
   "file_extension": ".py",
   "mimetype": "text/x-python",
   "name": "python",
   "nbconvert_exporter": "python",
   "pygments_lexer": "ipython3",
   "version": "3.7.3"
  }
 },
 "nbformat": 4,
 "nbformat_minor": 2
}
