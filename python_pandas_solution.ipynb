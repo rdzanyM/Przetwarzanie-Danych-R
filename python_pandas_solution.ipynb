{
 "cells": [
  {
   "cell_type": "code",
   "execution_count": 3,
   "metadata": {},
   "outputs": [],
   "source": [
    "import numpy as np\n",
    "import pandas as pd\n",
    "\n",
    "Tags = pd.read_csv(\"Tags.csv\")\n",
    "Posts = pd.read_csv(\"Posts.csv\")\n",
    "Users = pd.read_csv(\"Users.csv\")\n",
    "Votes = pd.read_csv(\"Votes.csv\")\n",
    "Comments = pd.read_csv(\"Comments.csv\")\n",
    "Badges = pd.read_csv(\"Badges.csv\")\n",
    "\n",
    "import sqlite3\n",
    "con = sqlite3.connect(\"./travel.db\")\n",
    "Tags.to_sql(\"Tags\", con)\n",
    "Posts.to_sql(\"Posts\", con)\n",
    "Users.to_sql(\"Users\", con)\n",
    "Votes.to_sql(\"Votes\", con)\n",
    "Comments.to_sql(\"Comments\", con)\n",
    "Badges.to_sql(\"Badges\", con)"
   ]
  },
  {
   "cell_type": "markdown",
   "metadata": {},
   "source": [
    "## Zadanie1  \n",
    ">Zwraca 10 użytkowników, których pytania zostały w sumie dodane do ulubionch największą ilość razy.  \n",
    ">Zwraca nazwę, id, lokację użytkownika, sumę dodań do ulubionych dla wszystkich zadanych przez niego pytań,\n",
    ">pytanie tego użytkownika dodane do ulubionych największą liczbę razy i liczbę dodań do ulubionych dla tego pytania.  "
   ]
  },
  {
   "cell_type": "code",
   "execution_count": 67,
   "metadata": {},
   "outputs": [
    {
     "data": {
      "text/plain": [
       "True"
      ]
     },
     "execution_count": 67,
     "metadata": {},
     "output_type": "execute_result"
    }
   ],
   "source": [
    "sql = pd.read_sql_query(\"\"\"SELECT Users.DisplayName,\n",
    "                           Users.Id,\n",
    "                           Users.Location,\n",
    "                           SUM(Posts.FavoriteCount) AS FavoriteTotal,\n",
    "                           Posts.Title AS MostFavoriteQuestion,\n",
    "                           MAX(Posts.FavoriteCount) AS MostFavoriteQuestionLikes\n",
    "                           FROM Posts\n",
    "                           JOIN Users ON Users.Id=Posts.OwnerUserId\n",
    "                           WHERE Posts.PostTypeId=1\n",
    "                           GROUP BY OwnerUserId\n",
    "                           ORDER BY FavoriteTotal DESC\n",
    "                           LIMIT 10\"\"\", con)\n",
    "\n",
    "pandas = Users[['DisplayName', 'Id', 'Location']].set_index('Id').join(\\\n",
    "Posts.query(\"PostTypeId == 1\")[['Title', 'FavoriteCount', 'OwnerUserId']].\\\n",
    "set_index('OwnerUserId'), how = 'inner').sort_values('FavoriteCount', ascending = False).groupby(level = 0).\\\n",
    "agg({'DisplayName': 'first', 'Location': 'first', 'FavoriteCount': ['sum', 'max'], 'Title': 'first'})\n",
    "pandas.columns = pandas.columns.droplevel(0)\n",
    "pandas = pandas.sort_values('sum', ascending = False).head(10).reset_index().iloc[:,[1,0,2,3,5,4]]\n",
    "pandas.columns = sql.columns\n",
    "\n",
    "sql.equals(pandas)"
   ]
  },
  {
   "cell_type": "markdown",
   "metadata": {},
   "source": [
    "## Zadanie2\n",
    ">Zwraca 10 pytań (id, tytuł, liczba odpowiedzi o dodatnim wyniku na dane pytanie)  \n",
    ">z największą liczbą odpowiedzi o dodatnim wyniku na dane pytanie. "
   ]
  },
  {
   "cell_type": "code",
   "execution_count": 99,
   "metadata": {},
   "outputs": [
    {
     "data": {
      "text/plain": [
       "True"
      ]
     },
     "execution_count": 99,
     "metadata": {},
     "output_type": "execute_result"
    }
   ],
   "source": [
    "sql = pd.read_sql_query(\"\"\" SELECT Posts.ID,\n",
    "                            Posts.Title,\n",
    "                            Posts2.PositiveAnswerCount\n",
    "                            FROM Posts\n",
    "                            JOIN (\n",
    "                            SELECT\n",
    "                            Posts.ParentID,\n",
    "                            COUNT(*) AS PositiveAnswerCount\n",
    "                            FROM Posts\n",
    "                            WHERE Posts.PostTypeID=2 AND Posts.Score>0\n",
    "                            GROUP BY Posts.ParentID\n",
    "                            ) AS Posts2\n",
    "                            ON Posts.ID=Posts2.ParentID\n",
    "                            ORDER BY Posts2.PositiveAnswerCount DESC\n",
    "                            LIMIT 10\"\"\", con)\n",
    "\n",
    "pandas = Posts.query(\"PostTypeId == 2 and Score > 0\").groupby('ParentId').size().nlargest(10).to_frame().\\\n",
    "join(Posts.set_index('Id'), how = 'inner').iloc[:,[15,0]].reset_index()                                                                                                \n",
    "pandas.columns = sql.columns\n",
    "\n",
    "sql.equals(pandas)"
   ]
  },
  {
   "cell_type": "markdown",
   "metadata": {},
   "source": [
    "## Zadanie3\n",
    ">Dla każdego roku zwraca tytuł pytania, które dostało najwięcej upvotów w danym roku, ten rok i tę liczbę upVotów. "
   ]
  },
  {
   "cell_type": "code",
   "execution_count": 187,
   "metadata": {},
   "outputs": [
    {
     "data": {
      "text/plain": [
       "True"
      ]
     },
     "execution_count": 187,
     "metadata": {},
     "output_type": "execute_result"
    }
   ],
   "source": [
    "sql = pd.read_sql_query(\"\"\" SELECT Posts.Title,\n",
    "                            UpVotesPerYear.Year,\n",
    "                            MAX(UpVotesPerYear.Count) AS Count\n",
    "                            FROM (\n",
    "                            SELECT\n",
    "                            PostId,\n",
    "                            COUNT(*) AS Count,\n",
    "                            STRFTIME('%Y', Votes.CreationDate) AS Year\n",
    "                            FROM Votes\n",
    "                            WHERE VoteTypeId=2\n",
    "                            GROUP BY PostId, Year\n",
    "                            ) AS UpVotesPerYear\n",
    "                            JOIN Posts ON Posts.Id=UpVotesPerYear.PostId\n",
    "                            WHERE Posts.PostTypeId=1\n",
    "                            GROUP BY Year\"\"\", con)\n",
    "\n",
    "q_uv_y = Votes.query(\"VoteTypeId == 2\")[['PostId', 'CreationDate']]\n",
    "q_uv_y.CreationDate = q_uv_y.CreationDate.str[:4]\n",
    "q_uv_y = q_uv_y.groupby(['PostId', 'CreationDate']).size().to_frame().join(\\\n",
    "Posts.query(\"PostTypeId == 1\")[['Id', 'Title']].set_index('Id'), on = 'PostId', how = 'inner')\n",
    "pandas = q_uv_y.groupby('CreationDate').max()[0].to_frame().reset_index().set_index(['CreationDate', 0]).join(\\\n",
    "q_uv_y.reset_index().set_index(['CreationDate', 0])).reset_index().iloc[:,[3,0,1]]\n",
    "pandas.columns = sql.columns\n",
    "\n",
    "sql.equals(pandas)"
   ]
  },
  {
   "cell_type": "markdown",
   "metadata": {},
   "source": [
    "## Zadanie4\n",
    ">"
   ]
  },
  {
   "cell_type": "code",
   "execution_count": null,
   "metadata": {},
   "outputs": [],
   "source": [
    "sql = pd.read_sql_query(\"\"\"SELECT Users.DisplayName,\n",
    "                           Users.Id,\n",
    "                           Users.Location,\n",
    "                           SUM(Posts.FavoriteCount) AS FavoriteTotal,\n",
    "                           Posts.Title AS MostFavoriteQuestion,\n",
    "                           MAX(Posts.FavoriteCount) AS MostFavoriteQuestionLikes\n",
    "                           FROM Posts\n",
    "                           JOIN Users ON Users.Id=Posts.OwnerUserId\n",
    "                           WHERE Posts.PostTypeId=1\n",
    "                           GROUP BY OwnerUserId\n",
    "                           ORDER BY FavoriteTotal DESC\n",
    "                           LIMIT 10\"\"\", con)\n",
    "\n",
    "pandas = Users[['DisplayName', 'Id', 'Location']].set_index('Id').join(\\\n",
    "Posts.query(\"PostTypeId == 1\")[['Title', 'FavoriteCount', 'OwnerUserId']].\\\n",
    "set_index('OwnerUserId'), how = 'inner').sort_values('FavoriteCount', ascending = False).groupby(level = 0).\\\n",
    "agg({'DisplayName': 'first', 'Location': 'first', 'FavoriteCount': ['sum', 'max'], 'Title': 'first'})\n",
    "pandas.columns = pandas.columns.droplevel(0)\n",
    "pandas = pandas.sort_values('sum', ascending = False).head(10).reset_index().iloc[:,[1,0,2,3,5,4]]\n",
    "pandas.columns = sql.columns\n",
    "\n",
    "sql.equals(pandas)"
   ]
  },
  {
   "cell_type": "markdown",
   "metadata": {},
   "source": [
    "## Zadanie5\n"
   ]
  },
  {
   "cell_type": "code",
   "execution_count": null,
   "metadata": {},
   "outputs": [],
   "source": [
    "sql = pd.read_sql_query(\"\"\"SELECT Users.DisplayName,\n",
    "                           Users.Id,\n",
    "                           Users.Location,\n",
    "                           SUM(Posts.FavoriteCount) AS FavoriteTotal,\n",
    "                           Posts.Title AS MostFavoriteQuestion,\n",
    "                           MAX(Posts.FavoriteCount) AS MostFavoriteQuestionLikes\n",
    "                           FROM Posts\n",
    "                           JOIN Users ON Users.Id=Posts.OwnerUserId\n",
    "                           WHERE Posts.PostTypeId=1\n",
    "                           GROUP BY OwnerUserId\n",
    "                           ORDER BY FavoriteTotal DESC\n",
    "                           LIMIT 10\"\"\", con)\n",
    "\n",
    "pandas = Users[['DisplayName', 'Id', 'Location']].set_index('Id').join(\\\n",
    "Posts.query(\"PostTypeId == 1\")[['Title', 'FavoriteCount', 'OwnerUserId']].\\\n",
    "set_index('OwnerUserId'), how = 'inner').sort_values('FavoriteCount', ascending = False).groupby(level = 0).\\\n",
    "agg({'DisplayName': 'first', 'Location': 'first', 'FavoriteCount': ['sum', 'max'], 'Title': 'first'})\n",
    "pandas.columns = pandas.columns.droplevel(0)\n",
    "pandas = pandas.sort_values('sum', ascending = False).head(10).reset_index().iloc[:,[1,0,2,3,5,4]]\n",
    "pandas.columns = sql.columns\n",
    "\n",
    "sql.equals(pandas)"
   ]
  },
  {
   "cell_type": "markdown",
   "metadata": {},
   "source": [
    "## Zadanie6\n"
   ]
  },
  {
   "cell_type": "code",
   "execution_count": null,
   "metadata": {},
   "outputs": [],
   "source": [
    "sql = pd.read_sql_query(\"\"\"SELECT Users.DisplayName,\n",
    "                           Users.Id,\n",
    "                           Users.Location,\n",
    "                           SUM(Posts.FavoriteCount) AS FavoriteTotal,\n",
    "                           Posts.Title AS MostFavoriteQuestion,\n",
    "                           MAX(Posts.FavoriteCount) AS MostFavoriteQuestionLikes\n",
    "                           FROM Posts\n",
    "                           JOIN Users ON Users.Id=Posts.OwnerUserId\n",
    "                           WHERE Posts.PostTypeId=1\n",
    "                           GROUP BY OwnerUserId\n",
    "                           ORDER BY FavoriteTotal DESC\n",
    "                           LIMIT 10\"\"\", con)\n",
    "\n",
    "pandas = Users[['DisplayName', 'Id', 'Location']].set_index('Id').join(\\\n",
    "Posts.query(\"PostTypeId == 1\")[['Title', 'FavoriteCount', 'OwnerUserId']].\\\n",
    "set_index('OwnerUserId'), how = 'inner').sort_values('FavoriteCount', ascending = False).groupby(level = 0).\\\n",
    "agg({'DisplayName': 'first', 'Location': 'first', 'FavoriteCount': ['sum', 'max'], 'Title': 'first'})\n",
    "pandas.columns = pandas.columns.droplevel(0)\n",
    "pandas = pandas.sort_values('sum', ascending = False).head(10).reset_index().iloc[:,[1,0,2,3,5,4]]\n",
    "pandas.columns = sql.columns\n",
    "\n",
    "sql.equals(pandas)"
   ]
  },
  {
   "cell_type": "markdown",
   "metadata": {},
   "source": [
    "## Zadanie7\n"
   ]
  },
  {
   "cell_type": "code",
   "execution_count": null,
   "metadata": {},
   "outputs": [],
   "source": [
    "sql = pd.read_sql_query(\"\"\"SELECT Users.DisplayName,\n",
    "                           Users.Id,\n",
    "                           Users.Location,\n",
    "                           SUM(Posts.FavoriteCount) AS FavoriteTotal,\n",
    "                           Posts.Title AS MostFavoriteQuestion,\n",
    "                           MAX(Posts.FavoriteCount) AS MostFavoriteQuestionLikes\n",
    "                           FROM Posts\n",
    "                           JOIN Users ON Users.Id=Posts.OwnerUserId\n",
    "                           WHERE Posts.PostTypeId=1\n",
    "                           GROUP BY OwnerUserId\n",
    "                           ORDER BY FavoriteTotal DESC\n",
    "                           LIMIT 10\"\"\", con)\n",
    "\n",
    "pandas = Users[['DisplayName', 'Id', 'Location']].set_index('Id').join(\\\n",
    "Posts.query(\"PostTypeId == 1\")[['Title', 'FavoriteCount', 'OwnerUserId']].\\\n",
    "set_index('OwnerUserId'), how = 'inner').sort_values('FavoriteCount', ascending = False).groupby(level = 0).\\\n",
    "agg({'DisplayName': 'first', 'Location': 'first', 'FavoriteCount': ['sum', 'max'], 'Title': 'first'})\n",
    "pandas.columns = pandas.columns.droplevel(0)\n",
    "pandas = pandas.sort_values('sum', ascending = False).head(10).reset_index().iloc[:,[1,0,2,3,5,4]]\n",
    "pandas.columns = sql.columns\n",
    "\n",
    "sql.equals(pandas)"
   ]
  },
  {
   "cell_type": "code",
   "execution_count": null,
   "metadata": {},
   "outputs": [],
   "source": []
  },
  {
   "cell_type": "markdown",
   "metadata": {},
   "source": [
    "![pandas](https://user-images.githubusercontent.com/43205483/58571663-830ea580-823a-11e9-9f0f-03925c92cefe.png)"
   ]
  },
  {
   "cell_type": "code",
   "execution_count": null,
   "metadata": {},
   "outputs": [],
   "source": []
  }
 ],
 "metadata": {
  "kernelspec": {
   "display_name": "Python 3",
   "language": "python",
   "name": "python3"
  },
  "language_info": {
   "codemirror_mode": {
    "name": "ipython",
    "version": 3
   },
   "file_extension": ".py",
   "mimetype": "text/x-python",
   "name": "python",
   "nbconvert_exporter": "python",
   "pygments_lexer": "ipython3",
   "version": "3.7.3"
  }
 },
 "nbformat": 4,
 "nbformat_minor": 2
}
